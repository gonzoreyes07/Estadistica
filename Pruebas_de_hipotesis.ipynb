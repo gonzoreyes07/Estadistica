{
  "nbformat": 4,
  "nbformat_minor": 0,
  "metadata": {
    "colab": {
      "provenance": [],
      "authorship_tag": "ABX9TyPpHSuHFP9bnYaLSKfBd3rx",
      "include_colab_link": true
    },
    "kernelspec": {
      "name": "python3",
      "display_name": "Python 3"
    },
    "language_info": {
      "name": "python"
    }
  },
  "cells": [
    {
      "cell_type": "markdown",
      "metadata": {
        "id": "view-in-github",
        "colab_type": "text"
      },
      "source": [
        "<a href=\"https://colab.research.google.com/github/gonzoreyes07/Estadistica/blob/main/Pruebas_de_hipotesis.ipynb\" target=\"_parent\"><img src=\"https://colab.research.google.com/assets/colab-badge.svg\" alt=\"Open In Colab\"/></a>"
      ]
    },
    {
      "cell_type": "code",
      "source": [
        "import scipy.stats as stats\n",
        "import numpy as np"
      ],
      "metadata": {
        "id": "g7Y_rpR6XK8Y"
      },
      "execution_count": 8,
      "outputs": []
    },
    {
      "cell_type": "code",
      "source": [
        "# Definimos una función que de los resultados\n",
        "def pruebas(ejercicio, estadistico, v_critico, p_value, alpha, conclusion):\n",
        "    print(f\"\\n--- Ejercicio {ejercicio} ---\")\n",
        "    print(f\"Estadístico de prueba: {estadistico:.4f}\")\n",
        "    if isinstance(v_critico, tuple):\n",
        "        print(f\"Valores críticos: ({v_critico[0]:.4f}, {v_critico[1]:.4f})\")\n",
        "    else:\n",
        "        print(f\"Valor crítico: {v_critico:.4f}\")\n",
        "    print(f\"Valor p-value: {p_value:.4f}\")\n",
        "    print(f\"Nivel de significancia (alpha): {alpha}\")\n",
        "    print(f\"Conclusión: {conclusion}\")"
      ],
      "metadata": {
        "id": "yemnnZuTYSzY"
      },
      "execution_count": 11,
      "outputs": []
    },
    {
      "cell_type": "code",
      "source": [
        "# Ejercicio 1:\n",
        "# H0: mu <= 1%, Ha: mu > 1%\n",
        "n1 = 12\n",
        "media1 = 1.4 / 100\n",
        "desv1 = 0.6 / 100\n",
        "alpha1 = 0.05\n",
        "mu0_1 = 1 / 100\n",
        "\n",
        "# Prueba t student (desviación estándar poblacional desconocida)\n",
        "t_1 = (media1 - mu0_1) / (desv1 / np.sqrt(n1))\n",
        "df1 = n1 - 1\n",
        "v_c1 = stats.t.ppf(1 - alpha1, df1)\n",
        "p_value1 = 1 - stats.t.cdf(t_1, df1)\n",
        "\n",
        "# Decisión\n",
        "conclusion1 = \"Rechazamos H0: Hay evidencia suficiente para afirmar que el rendimiento promedio mensual es superior al 1%.\" if t_1 > v_c1 else \"No rechazamos H0: No hay evidencia suficiente para afirmar que el rendimiento promedio mensual es superior al 1%.\"\n",
        "pruebas(1, t_1, v_c1, p_value1, alpha1, conclusion1)"
      ],
      "metadata": {
        "colab": {
          "base_uri": "https://localhost:8080/"
        },
        "id": "CN7dkJOlaZnm",
        "outputId": "1305a294-7f88-4ac7-8033-388aa01eda88"
      },
      "execution_count": 12,
      "outputs": [
        {
          "output_type": "stream",
          "name": "stdout",
          "text": [
            "\n",
            "--- Ejercicio 1 ---\n",
            "Estadístico de prueba: 2.3094\n",
            "Valor crítico: 1.7959\n",
            "Valor p-value: 0.0207\n",
            "Nivel de significancia (alpha): 0.05\n",
            "Conclusión: Rechazamos H0: Hay evidencia suficiente para afirmar que el rendimiento promedio mensual es superior al 1%.\n"
          ]
        }
      ]
    },
    {
      "cell_type": "code",
      "source": [
        "# Ejercicio 2:\n",
        "# H0: mu = 6%, H1: mu != 6%\n",
        "n2 = 30\n",
        "media2 = 5.2 / 100\n",
        "desv2 = 1.8 / 100\n",
        "alpha2 = 0.05\n",
        "mu0_2 = 6 / 100\n",
        "\n",
        "# Prueba t (desviación estándar poblacional desconocida)\n",
        "t_2 = (media2 - mu0_2) / (desv2 / np.sqrt(n2))\n",
        "df2 = n2 - 1\n",
        "v_c2 = (-stats.t.ppf(1 - alpha2/2, df2), stats.t.ppf(1 - alpha2/2, df2))\n",
        "p_value2 = 2 * (1 - stats.t.cdf(abs(t_2), df2))\n",
        "\n",
        "# Decisión\n",
        "conclusion2 = \"Rechazamos H0: Hay evidencia suficiente para afirmar que el rendimiento del fondo es diferente del 6%.\" if abs(t_2) > v_c2[1] else \"No rechazamos H0: No hay evidencia suficiente para afirmar que el rendimiento del fondo es diferente del 6%.\"\n",
        "pruebas(2, t_2, v_c2, p_value2, alpha2, conclusion2)"
      ],
      "metadata": {
        "colab": {
          "base_uri": "https://localhost:8080/"
        },
        "id": "kxc55Pf5asqO",
        "outputId": "e174f294-314d-4eef-9425-c11edc4e6a49"
      },
      "execution_count": 15,
      "outputs": [
        {
          "output_type": "stream",
          "name": "stdout",
          "text": [
            "\n",
            "--- Ejercicio 2 ---\n",
            "Estadístico de prueba: -2.4343\n",
            "Valores críticos: (-2.0452, 2.0452)\n",
            "Valor p-value: 0.0213\n",
            "Nivel de significancia (alpha): 0.05\n",
            "Conclusión: Rechazamos H0: Hay evidencia suficiente para afirmar que el rendimiento del fondo es diferente del 6%.\n"
          ]
        }
      ]
    },
    {
      "cell_type": "code",
      "source": [
        "# Ejercicio 3:\n",
        "# H0: mu = 150, H1: mu != 150\n",
        "n3 = 36\n",
        "media3 = 147\n",
        "desv3 = 5\n",
        "alpha3 = 0.01\n",
        "mu0_3 = 150\n",
        "\n",
        "# Prueba z (desviación estándar poblacional conocida)\n",
        "z_3 = (media3 - mu0_3) / (desv3 / np.sqrt(n3))\n",
        "v_c3 = (-stats.norm.ppf(1 - alpha3/2), stats.norm.ppf(1 - alpha3/2))\n",
        "p_value3 = 2 * (1 - stats.norm.cdf(abs(z_3)))\n",
        "\n",
        "# Decisión\n",
        "conclusion3 = \"Rechazamos H0: Hay evidencia suficiente para afirmar que el precio promedio de la acción ha cambiado respecto a $150.\" if abs(z_3) > v_c3[1] else \"No rechazamos H0: No hay evidencia suficiente para afirmar que el precio promedio de la acción ha cambiado respecto a $150.\"\n",
        "pruebas(3, z_3, v_c3, p_value3, alpha3, conclusion3)"
      ],
      "metadata": {
        "colab": {
          "base_uri": "https://localhost:8080/"
        },
        "id": "B7oX_27XbIgV",
        "outputId": "580e8474-1eeb-4df0-e823-2194bb4a8331"
      },
      "execution_count": 17,
      "outputs": [
        {
          "output_type": "stream",
          "name": "stdout",
          "text": [
            "\n",
            "--- Ejercicio 3 ---\n",
            "Estadístico de prueba: -3.6000\n",
            "Valores críticos: (-2.5758, 2.5758)\n",
            "Valor p-value: 0.0003\n",
            "Nivel de significancia (alpha): 0.01\n",
            "Conclusión: Rechazamos H0: Hay evidencia suficiente para afirmar que el precio promedio de la acción ha cambiado respecto a $150.\n"
          ]
        }
      ]
    },
    {
      "cell_type": "code",
      "execution_count": 7,
      "metadata": {
        "colab": {
          "base_uri": "https://localhost:8080/"
        },
        "id": "6ANUPzS9XIA5",
        "outputId": "14758e75-69e3-444d-b94a-0e57dd447338"
      },
      "outputs": [
        {
          "output_type": "stream",
          "name": "stdout",
          "text": [
            "\n",
            "--- Ejercicio 4 ---\n",
            "Estadístico de prueba: 3.0000\n",
            "Valor crítico: 2.4922\n",
            "Valor p-value: 0.0031\n",
            "Nivel de significancia (alpha): 0.01\n",
            "Conclusión: Rechazamos H0: Hay evidencia suficiente para afirmar que el rendimiento del portafolio supera el 8%.\n"
          ]
        }
      ],
      "source": [
        "# Ejercicio 4:\n",
        "# H0: mu <= 8%, H1: mu > 8%\n",
        "n4 = 25\n",
        "media4 = 8.9 / 100\n",
        "desv4 = 1.5 / 100\n",
        "alpha4 = 0.01\n",
        "mu0_4 = 8 / 100\n",
        "\n",
        "# Prueba t (desviación estándar poblacional desconocida)\n",
        "t_4 = (media4 - mu0_4) / (desv4 / np.sqrt(n4))\n",
        "df4 = n4 - 1\n",
        "v_c4 = stats.t.ppf(1 - alpha4, df4)\n",
        "p_value4 = 1 - stats.t.cdf(t_4, df4)\n",
        "\n",
        "# Decisión\n",
        "conclusion4 = \"Rechazamos H0: Hay evidencia suficiente para afirmar que el rendimiento del portafolio supera el 8%.\" if t_4 > v_c4 else \"No rechazamos H0: No hay evidencia suficiente para afirmar que el rendimiento del portafolio supera el 8%.\"\n",
        "pruebas(4, t_4, v_c4, p_value4, alpha4, conclusion4)"
      ]
    }
  ]
}