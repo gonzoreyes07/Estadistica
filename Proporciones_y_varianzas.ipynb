{
  "nbformat": 4,
  "nbformat_minor": 0,
  "metadata": {
    "colab": {
      "provenance": [],
      "authorship_tag": "ABX9TyMo8TIn/xfzYhPi1gu3cS6y",
      "include_colab_link": true
    },
    "kernelspec": {
      "name": "python3",
      "display_name": "Python 3"
    },
    "language_info": {
      "name": "python"
    }
  },
  "cells": [
    {
      "cell_type": "markdown",
      "metadata": {
        "id": "view-in-github",
        "colab_type": "text"
      },
      "source": [
        "<a href=\"https://colab.research.google.com/github/gonzoreyes07/Estadistica/blob/main/Proporciones_y_varianzas.ipynb\" target=\"_parent\"><img src=\"https://colab.research.google.com/assets/colab-badge.svg\" alt=\"Open In Colab\"/></a>"
      ]
    },
    {
      "cell_type": "code",
      "source": [
        "import math\n",
        "from scipy.stats import norm, chi2"
      ],
      "metadata": {
        "id": "4HuFiNCtSQqL"
      },
      "execution_count": 1,
      "outputs": []
    },
    {
      "cell_type": "code",
      "source": [
        "# Ejercicio 1\n",
        "n1 = 105  # tamaño de la muestra\n",
        "x1 = 27   # número de comerciantes con pérdidas\n",
        "p0_1 = 0.35  # proporción bajo la hipótesis nula\n",
        "alpha = 0.05  # nivel de significancia\n",
        "\n",
        "# Proporción observada\n",
        "p_1 = x1 / n1\n",
        "\n",
        "# Cálculo del estadístico Z\n",
        "z_1 = (p_1 - p0_1) / math.sqrt(p0_1 * (1 - p0_1) / n1)\n",
        "\n",
        "# Valor crítico Z para un nivel de significancia del 5% (prueba de dos colas)\n",
        "z_critico = norm.ppf(1 - alpha / 2)\n",
        "\n",
        "print(f\"Proporción observada (p̂): {p_1:.3f}\")\n",
        "print(f\"Valor del estadístico Z: {z_1:.3f}\")\n",
        "print(f\"Valor crítico Z: ±{z_critico:.3f}\")\n",
        "if abs(z_1) > z_critico:\n",
        "    print(\"Se rechaza la hipótesis nula: Hay suficiente evidencia con un 95% de confianza que la proporción de negocios con pérdidas es menor del 35%.\")\n",
        "else:\n",
        "    print(\"No se rechaza la hipótesis nula: No hay evidencia suficiente para decir que la proporción es diferente de 35%.\")\n",
        "print()"
      ],
      "metadata": {
        "colab": {
          "base_uri": "https://localhost:8080/"
        },
        "id": "nqGBIVwmScQD",
        "outputId": "b1da2bc6-ae23-4b21-edc2-eea666902598"
      },
      "execution_count": 5,
      "outputs": [
        {
          "output_type": "stream",
          "name": "stdout",
          "text": [
            "Proporción observada (p̂): 0.257\n",
            "Valor del estadístico Z: -1.995\n",
            "Valor crítico Z: ±1.960\n",
            "Se rechaza la hipótesis nula: Hay suficiente evidencia con un 95% de confianza que la proporción de negocios con pérdidas es menor del 35%.\n",
            "\n"
          ]
        }
      ]
    },
    {
      "cell_type": "code",
      "source": [
        "# Ejercicio 2:\n",
        "n2 = 200  # tamaño de la muestra\n",
        "x2 = 112  # número de votantes que apoyan al candidato\n",
        "p0_2 = 0.5  # proporción bajo la hipótesis nula\n",
        "\n",
        "# Proporción observada\n",
        "p_2 = x2 / n2\n",
        "\n",
        "# Cálculo del estadístico Z\n",
        "z_2 = (p_2 - p0_2) / math.sqrt(p0_2 * (1 - p0_2) / n2)\n",
        "\n",
        "print(f\"Proporción observada (p̂): {p_2:.3f}\")\n",
        "print(f\"Valor del estadístico Z: {z_2:.3f}\")\n",
        "print(f\"Valor crítico Z: ±{z_critico:.3f}\")\n",
        "if abs(z_2) > z_critico:\n",
        "    print(\"Se rechaza la hipótesis nula: La proporción de apoyo es significativamente diferente de 50%.\")\n",
        "else:\n",
        "    print(\"Fallamos en rechazar la hipótesis nula: No hay evidencia suficiente para decir que la proporción de los votantes que apoyan a cierto candidato difiere del 50%.\")\n",
        "print()"
      ],
      "metadata": {
        "colab": {
          "base_uri": "https://localhost:8080/"
        },
        "id": "nKfNZBF2TGG7",
        "outputId": "c159902d-5b7e-4097-8a5a-5cdf2aa3fe91"
      },
      "execution_count": 6,
      "outputs": [
        {
          "output_type": "stream",
          "name": "stdout",
          "text": [
            "Proporción observada (p̂): 0.560\n",
            "Valor del estadístico Z: 1.697\n",
            "Valor crítico Z: ±1.960\n",
            "Fallamos en rechazar la hipótesis nula: No hay evidencia suficiente para decir que la proporción de los votantes que apoyan a cierto candidato difiere del 50%.\n",
            "\n"
          ]
        }
      ]
    },
    {
      "cell_type": "code",
      "execution_count": 7,
      "metadata": {
        "colab": {
          "base_uri": "https://localhost:8080/"
        },
        "id": "rYI8x87NSOh2",
        "outputId": "7d82e5a5-d1f4-4273-a8e4-192b21ed023e"
      },
      "outputs": [
        {
          "output_type": "stream",
          "name": "stdout",
          "text": [
            "Varianza muestral (S²): 0.065\n",
            "Valor del estadístico chi-cuadrado: 30.875\n",
            "Valores críticos chi-cuadrado: (8.907, 32.852)\n",
            "No se rechaza la hipótesis nula: No hay evidencia suficiente para decir que la varianza es mayor a 0.04 kg².\n"
          ]
        }
      ],
      "source": [
        "# Ejercicio 3\n",
        "n3 = 20  # tamaño de la muestra\n",
        "s2 = 0.065  # varianza muestral\n",
        "sigma2_0 = 0.04  # varianza\n",
        "\n",
        "# Cálculo del estadístico chi-cuadrado\n",
        "chi2_stat = (n3 - 1) * s2 / sigma2_0\n",
        "\n",
        "# Valores críticos chi-cuadrado para un nivel de significancia del 5% (prueba de dos colas)\n",
        "chi2_l = chi2.ppf(alpha / 2, n3 - 1)\n",
        "chi2_u = chi2.ppf(1 - alpha / 2, n3 - 1)\n",
        "\n",
        "# Decisión\n",
        "print(f\"Varianza muestral (S²): {s2:.3f}\")\n",
        "print(f\"Valor del estadístico chi-cuadrado: {chi2_stat:.3f}\")\n",
        "print(f\"Valores críticos chi-cuadrado: ({chi2_l:.3f}, {chi2_u:.3f})\")\n",
        "if chi2_stat < chi2_l or chi2_stat > chi2_u:\n",
        "    print(\"Se rechaza la hipótesis nula: La varianza poblacional es significativamente diferente de 0.04 kg².\")\n",
        "else:\n",
        "    print(\"No se rechaza la hipótesis nula: No hay evidencia suficiente para decir que la varianza es mayor a 0.04 kg².\")"
      ]
    }
  ]
}